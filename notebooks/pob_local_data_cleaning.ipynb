{
 "cells": [
  {
   "cell_type": "code",
   "execution_count": 15,
   "id": "2809ef62",
   "metadata": {},
   "outputs": [],
   "source": [
    "from polars import read_csv, all, col, Int32, Int16"
   ]
  },
  {
   "cell_type": "code",
   "execution_count": 16,
   "id": "855559fd",
   "metadata": {},
   "outputs": [],
   "source": [
    "raw = read_csv('../datasets/raw/osb_demografia-poblacion-localidad.csv', separator=';', encoding='utf8')"
   ]
  },
  {
   "cell_type": "code",
   "execution_count": 17,
   "id": "9897f908",
   "metadata": {},
   "outputs": [
    {
     "data": {
      "text/html": [
       "<div><style>\n",
       ".dataframe > thead > tr,\n",
       ".dataframe > tbody > tr {\n",
       "  text-align: right;\n",
       "  white-space: pre-wrap;\n",
       "}\n",
       "</style>\n",
       "<small>shape: (9, 11)</small><table border=\"1\" class=\"dataframe\"><thead><tr><th>statistic</th><th>ANO</th><th>CODIGO_LOCALIDAD</th><th>NOMBRE_LOCALIDAD</th><th>SEXO</th><th>EDAD</th><th>ORDEN_MCV</th><th>CURSODEVIDA</th><th>ORDEN_GRUPO_EDAD</th><th>GRUPOEDAD</th><th>POBLACION_7</th></tr><tr><td>str</td><td>f64</td><td>f64</td><td>str</td><td>str</td><td>f64</td><td>f64</td><td>str</td><td>f64</td><td>str</td><td>f64</td></tr></thead><tbody><tr><td>&quot;count&quot;</td><td>131502.0</td><td>131502.0</td><td>&quot;131502&quot;</td><td>&quot;131502&quot;</td><td>131502.0</td><td>131502.0</td><td>&quot;131502&quot;</td><td>131502.0</td><td>&quot;131502&quot;</td><td>131502.0</td></tr><tr><td>&quot;null_count&quot;</td><td>0.0</td><td>0.0</td><td>&quot;0&quot;</td><td>&quot;0&quot;</td><td>0.0</td><td>0.0</td><td>&quot;0&quot;</td><td>0.0</td><td>&quot;0&quot;</td><td>0.0</td></tr><tr><td>&quot;mean&quot;</td><td>2020.0</td><td>10.0</td><td>null</td><td>null</td><td>50.0</td><td>4.762376</td><td>null</td><td>10.60396</td><td>null</td><td>3546.795927</td></tr><tr><td>&quot;std&quot;</td><td>8.944306</td><td>6.055324</td><td>null</td><td>null</td><td>29.15487</td><td>1.47688</td><td>null</td><td>5.831109</td><td>null</td><td>9381.764914</td></tr><tr><td>&quot;min&quot;</td><td>2005.0</td><td>0.0</td><td>&quot;Antonio Nariño&quot;</td><td>&quot;Hombres&quot;</td><td>0.0</td><td>1.0</td><td>&quot;Adolescencia&quot;</td><td>1.0</td><td>&quot;0 a 4&quot;</td><td>0.0</td></tr><tr><td>&quot;25%&quot;</td><td>2012.0</td><td>5.0</td><td>null</td><td>null</td><td>25.0</td><td>4.0</td><td>null</td><td>6.0</td><td>null</td><td>246.0</td></tr><tr><td>&quot;50%&quot;</td><td>2020.0</td><td>10.0</td><td>null</td><td>null</td><td>50.0</td><td>5.0</td><td>null</td><td>11.0</td><td>null</td><td>988.0</td></tr><tr><td>&quot;75%&quot;</td><td>2028.0</td><td>15.0</td><td>null</td><td>null</td><td>75.0</td><td>6.0</td><td>null</td><td>16.0</td><td>null</td><td>3034.0</td></tr><tr><td>&quot;max&quot;</td><td>2035.0</td><td>20.0</td><td>&quot;Usme&quot;</td><td>&quot;Mujeres&quot;</td><td>100.0</td><td>6.0</td><td>&quot;Vejez&quot;</td><td>21.0</td><td>&quot;95 a 99&quot;</td><td>82181.0</td></tr></tbody></table></div>"
      ],
      "text/plain": [
       "shape: (9, 11)\n",
       "┌───────────┬──────────┬───────────┬───────────┬───┬───────────┬───────────┬───────────┬───────────┐\n",
       "│ statistic ┆ ANO      ┆ CODIGO_LO ┆ NOMBRE_LO ┆ … ┆ CURSODEVI ┆ ORDEN_GRU ┆ GRUPOEDAD ┆ POBLACION │\n",
       "│ ---       ┆ ---      ┆ CALIDAD   ┆ CALIDAD   ┆   ┆ DA        ┆ PO_EDAD   ┆ ---       ┆ _7        │\n",
       "│ str       ┆ f64      ┆ ---       ┆ ---       ┆   ┆ ---       ┆ ---       ┆ str       ┆ ---       │\n",
       "│           ┆          ┆ f64       ┆ str       ┆   ┆ str       ┆ f64       ┆           ┆ f64       │\n",
       "╞═══════════╪══════════╪═══════════╪═══════════╪═══╪═══════════╪═══════════╪═══════════╪═══════════╡\n",
       "│ count     ┆ 131502.0 ┆ 131502.0  ┆ 131502    ┆ … ┆ 131502    ┆ 131502.0  ┆ 131502    ┆ 131502.0  │\n",
       "│ null_coun ┆ 0.0      ┆ 0.0       ┆ 0         ┆ … ┆ 0         ┆ 0.0       ┆ 0         ┆ 0.0       │\n",
       "│ t         ┆          ┆           ┆           ┆   ┆           ┆           ┆           ┆           │\n",
       "│ mean      ┆ 2020.0   ┆ 10.0      ┆ null      ┆ … ┆ null      ┆ 10.60396  ┆ null      ┆ 3546.7959 │\n",
       "│           ┆          ┆           ┆           ┆   ┆           ┆           ┆           ┆ 27        │\n",
       "│ std       ┆ 8.944306 ┆ 6.055324  ┆ null      ┆ … ┆ null      ┆ 5.831109  ┆ null      ┆ 9381.7649 │\n",
       "│           ┆          ┆           ┆           ┆   ┆           ┆           ┆           ┆ 14        │\n",
       "│ min       ┆ 2005.0   ┆ 0.0       ┆ Antonio   ┆ … ┆ Adolescen ┆ 1.0       ┆ 0 a 4     ┆ 0.0       │\n",
       "│           ┆          ┆           ┆ Nariño    ┆   ┆ cia       ┆           ┆           ┆           │\n",
       "│ 25%       ┆ 2012.0   ┆ 5.0       ┆ null      ┆ … ┆ null      ┆ 6.0       ┆ null      ┆ 246.0     │\n",
       "│ 50%       ┆ 2020.0   ┆ 10.0      ┆ null      ┆ … ┆ null      ┆ 11.0      ┆ null      ┆ 988.0     │\n",
       "│ 75%       ┆ 2028.0   ┆ 15.0      ┆ null      ┆ … ┆ null      ┆ 16.0      ┆ null      ┆ 3034.0    │\n",
       "│ max       ┆ 2035.0   ┆ 20.0      ┆ Usme      ┆ … ┆ Vejez     ┆ 21.0      ┆ 95 a 99   ┆ 82181.0   │\n",
       "└───────────┴──────────┴───────────┴───────────┴───┴───────────┴───────────┴───────────┴───────────┘"
      ]
     },
     "execution_count": 17,
     "metadata": {},
     "output_type": "execute_result"
    }
   ],
   "source": [
    "raw.describe()"
   ]
  },
  {
   "cell_type": "code",
   "execution_count": 18,
   "id": "352ef64d",
   "metadata": {},
   "outputs": [
    {
     "data": {
      "text/html": [
       "<div><style>\n",
       ".dataframe > thead > tr,\n",
       ".dataframe > tbody > tr {\n",
       "  text-align: right;\n",
       "  white-space: pre-wrap;\n",
       "}\n",
       "</style>\n",
       "<small>shape: (131_502, 10)</small><table border=\"1\" class=\"dataframe\"><thead><tr><th>ANO</th><th>CODIGO_LOCALIDAD</th><th>NOMBRE_LOCALIDAD</th><th>SEXO</th><th>EDAD</th><th>ORDEN_MCV</th><th>CURSODEVIDA</th><th>ORDEN_GRUPO_EDAD</th><th>GRUPOEDAD</th><th>POBLACION_7</th></tr><tr><td>i64</td><td>i64</td><td>str</td><td>str</td><td>i64</td><td>i64</td><td>str</td><td>i64</td><td>str</td><td>i64</td></tr></thead><tbody><tr><td>2005</td><td>1</td><td>&quot;Usaquén&quot;</td><td>&quot;Hombres&quot;</td><td>0</td><td>1</td><td>&quot;Primera Infancia&quot;</td><td>1</td><td>&quot;0 a 4&quot;</td><td>2909</td></tr><tr><td>2005</td><td>1</td><td>&quot;Usaquén&quot;</td><td>&quot;Hombres&quot;</td><td>1</td><td>1</td><td>&quot;Primera Infancia&quot;</td><td>1</td><td>&quot;0 a 4&quot;</td><td>2954</td></tr><tr><td>2005</td><td>1</td><td>&quot;Usaquén&quot;</td><td>&quot;Hombres&quot;</td><td>2</td><td>1</td><td>&quot;Primera Infancia&quot;</td><td>1</td><td>&quot;0 a 4&quot;</td><td>2919</td></tr><tr><td>2005</td><td>1</td><td>&quot;Usaquén&quot;</td><td>&quot;Hombres&quot;</td><td>3</td><td>1</td><td>&quot;Primera Infancia&quot;</td><td>1</td><td>&quot;0 a 4&quot;</td><td>2989</td></tr><tr><td>2005</td><td>1</td><td>&quot;Usaquén&quot;</td><td>&quot;Hombres&quot;</td><td>4</td><td>1</td><td>&quot;Primera Infancia&quot;</td><td>1</td><td>&quot;0 a 4&quot;</td><td>3079</td></tr><tr><td>&hellip;</td><td>&hellip;</td><td>&hellip;</td><td>&hellip;</td><td>&hellip;</td><td>&hellip;</td><td>&hellip;</td><td>&hellip;</td><td>&hellip;</td><td>&hellip;</td></tr><tr><td>2035</td><td>0</td><td>&quot;Bogotá&quot;</td><td>&quot;Mujeres&quot;</td><td>96</td><td>6</td><td>&quot;Vejez&quot;</td><td>20</td><td>&quot;95 a 99&quot;</td><td>1192</td></tr><tr><td>2035</td><td>0</td><td>&quot;Bogotá&quot;</td><td>&quot;Mujeres&quot;</td><td>97</td><td>6</td><td>&quot;Vejez&quot;</td><td>20</td><td>&quot;95 a 99&quot;</td><td>847</td></tr><tr><td>2035</td><td>0</td><td>&quot;Bogotá&quot;</td><td>&quot;Mujeres&quot;</td><td>98</td><td>6</td><td>&quot;Vejez&quot;</td><td>20</td><td>&quot;95 a 99&quot;</td><td>590</td></tr><tr><td>2035</td><td>0</td><td>&quot;Bogotá&quot;</td><td>&quot;Mujeres&quot;</td><td>99</td><td>6</td><td>&quot;Vejez&quot;</td><td>20</td><td>&quot;95 a 99&quot;</td><td>403</td></tr><tr><td>2035</td><td>0</td><td>&quot;Bogotá&quot;</td><td>&quot;Mujeres&quot;</td><td>100</td><td>6</td><td>&quot;Vejez&quot;</td><td>21</td><td>&quot;100 o mÃ¡s&quot;</td><td>720</td></tr></tbody></table></div>"
      ],
      "text/plain": [
       "shape: (131_502, 10)\n",
       "┌──────┬────────────┬────────────┬─────────┬───┬────────────┬────────────┬────────────┬────────────┐\n",
       "│ ANO  ┆ CODIGO_LOC ┆ NOMBRE_LOC ┆ SEXO    ┆ … ┆ CURSODEVID ┆ ORDEN_GRUP ┆ GRUPOEDAD  ┆ POBLACION_ │\n",
       "│ ---  ┆ ALIDAD     ┆ ALIDAD     ┆ ---     ┆   ┆ A          ┆ O_EDAD     ┆ ---        ┆ 7          │\n",
       "│ i64  ┆ ---        ┆ ---        ┆ str     ┆   ┆ ---        ┆ ---        ┆ str        ┆ ---        │\n",
       "│      ┆ i64        ┆ str        ┆         ┆   ┆ str        ┆ i64        ┆            ┆ i64        │\n",
       "╞══════╪════════════╪════════════╪═════════╪═══╪════════════╪════════════╪════════════╪════════════╡\n",
       "│ 2005 ┆ 1          ┆ Usaquén    ┆ Hombres ┆ … ┆ Primera    ┆ 1          ┆ 0 a 4      ┆ 2909       │\n",
       "│      ┆            ┆            ┆         ┆   ┆ Infancia   ┆            ┆            ┆            │\n",
       "│ 2005 ┆ 1          ┆ Usaquén    ┆ Hombres ┆ … ┆ Primera    ┆ 1          ┆ 0 a 4      ┆ 2954       │\n",
       "│      ┆            ┆            ┆         ┆   ┆ Infancia   ┆            ┆            ┆            │\n",
       "│ 2005 ┆ 1          ┆ Usaquén    ┆ Hombres ┆ … ┆ Primera    ┆ 1          ┆ 0 a 4      ┆ 2919       │\n",
       "│      ┆            ┆            ┆         ┆   ┆ Infancia   ┆            ┆            ┆            │\n",
       "│ 2005 ┆ 1          ┆ Usaquén    ┆ Hombres ┆ … ┆ Primera    ┆ 1          ┆ 0 a 4      ┆ 2989       │\n",
       "│      ┆            ┆            ┆         ┆   ┆ Infancia   ┆            ┆            ┆            │\n",
       "│ 2005 ┆ 1          ┆ Usaquén    ┆ Hombres ┆ … ┆ Primera    ┆ 1          ┆ 0 a 4      ┆ 3079       │\n",
       "│      ┆            ┆            ┆         ┆   ┆ Infancia   ┆            ┆            ┆            │\n",
       "│ …    ┆ …          ┆ …          ┆ …       ┆ … ┆ …          ┆ …          ┆ …          ┆ …          │\n",
       "│ 2035 ┆ 0          ┆ Bogotá     ┆ Mujeres ┆ … ┆ Vejez      ┆ 20         ┆ 95 a 99    ┆ 1192       │\n",
       "│ 2035 ┆ 0          ┆ Bogotá     ┆ Mujeres ┆ … ┆ Vejez      ┆ 20         ┆ 95 a 99    ┆ 847        │\n",
       "│ 2035 ┆ 0          ┆ Bogotá     ┆ Mujeres ┆ … ┆ Vejez      ┆ 20         ┆ 95 a 99    ┆ 590        │\n",
       "│ 2035 ┆ 0          ┆ Bogotá     ┆ Mujeres ┆ … ┆ Vejez      ┆ 20         ┆ 95 a 99    ┆ 403        │\n",
       "│ 2035 ┆ 0          ┆ Bogotá     ┆ Mujeres ┆ … ┆ Vejez      ┆ 21         ┆ 100 o mÃ¡s ┆ 720        │\n",
       "└──────┴────────────┴────────────┴─────────┴───┴────────────┴────────────┴────────────┴────────────┘"
      ]
     },
     "execution_count": 18,
     "metadata": {},
     "output_type": "execute_result"
    }
   ],
   "source": [
    "raw"
   ]
  },
  {
   "cell_type": "code",
   "execution_count": 19,
   "id": "d63e0d53",
   "metadata": {},
   "outputs": [
    {
     "data": {
      "text/plain": [
       "Schema([('ANO', Int64),\n",
       "        ('CODIGO_LOCALIDAD', Int64),\n",
       "        ('NOMBRE_LOCALIDAD', String),\n",
       "        ('SEXO', String),\n",
       "        ('EDAD', Int64),\n",
       "        ('ORDEN_MCV', Int64),\n",
       "        ('CURSODEVIDA', String),\n",
       "        ('ORDEN_GRUPO_EDAD', Int64),\n",
       "        ('GRUPOEDAD', String),\n",
       "        ('POBLACION_7', Int64)])"
      ]
     },
     "execution_count": 19,
     "metadata": {},
     "output_type": "execute_result"
    }
   ],
   "source": [
    "raw.schema"
   ]
  },
  {
   "cell_type": "code",
   "execution_count": 20,
   "id": "65d9ca43",
   "metadata": {},
   "outputs": [],
   "source": [
    "data = raw.with_columns([\n",
    "    col('POBLACION_7').cast(Int32),\n",
    "    col(['ANO', 'EDAD', 'ORDEN_MCV', 'ORDEN_GRUPO_EDAD', 'CODIGO_LOCALIDAD']).cast(Int16),\n",
    "    col('GRUPOEDAD').str.replace_all('Ã¡', 'á')\n",
    "]).rename({\n",
    "    'CURSODEVIDA': 'CURSO_DE_VIDA',\n",
    "    'GRUPOEDAD': 'GRUPO_EDAD',\n",
    "    'POBLACION_7': 'POBLACION'\n",
    "})"
   ]
  },
  {
   "cell_type": "code",
   "execution_count": 21,
   "id": "f4c044d7",
   "metadata": {},
   "outputs": [
    {
     "data": {
      "text/html": [
       "<div><style>\n",
       ".dataframe > thead > tr,\n",
       ".dataframe > tbody > tr {\n",
       "  text-align: right;\n",
       "  white-space: pre-wrap;\n",
       "}\n",
       "</style>\n",
       "<small>shape: (131_502, 10)</small><table border=\"1\" class=\"dataframe\"><thead><tr><th>ANO</th><th>CODIGO_LOCALIDAD</th><th>NOMBRE_LOCALIDAD</th><th>SEXO</th><th>EDAD</th><th>ORDEN_MCV</th><th>CURSO_DE_VIDA</th><th>ORDEN_GRUPO_EDAD</th><th>GRUPO_EDAD</th><th>POBLACION</th></tr><tr><td>i16</td><td>i16</td><td>str</td><td>str</td><td>i16</td><td>i16</td><td>str</td><td>i16</td><td>str</td><td>i32</td></tr></thead><tbody><tr><td>2005</td><td>1</td><td>&quot;Usaquén&quot;</td><td>&quot;Hombres&quot;</td><td>0</td><td>1</td><td>&quot;Primera Infancia&quot;</td><td>1</td><td>&quot;0 a 4&quot;</td><td>2909</td></tr><tr><td>2005</td><td>1</td><td>&quot;Usaquén&quot;</td><td>&quot;Hombres&quot;</td><td>1</td><td>1</td><td>&quot;Primera Infancia&quot;</td><td>1</td><td>&quot;0 a 4&quot;</td><td>2954</td></tr><tr><td>2005</td><td>1</td><td>&quot;Usaquén&quot;</td><td>&quot;Hombres&quot;</td><td>2</td><td>1</td><td>&quot;Primera Infancia&quot;</td><td>1</td><td>&quot;0 a 4&quot;</td><td>2919</td></tr><tr><td>2005</td><td>1</td><td>&quot;Usaquén&quot;</td><td>&quot;Hombres&quot;</td><td>3</td><td>1</td><td>&quot;Primera Infancia&quot;</td><td>1</td><td>&quot;0 a 4&quot;</td><td>2989</td></tr><tr><td>2005</td><td>1</td><td>&quot;Usaquén&quot;</td><td>&quot;Hombres&quot;</td><td>4</td><td>1</td><td>&quot;Primera Infancia&quot;</td><td>1</td><td>&quot;0 a 4&quot;</td><td>3079</td></tr><tr><td>&hellip;</td><td>&hellip;</td><td>&hellip;</td><td>&hellip;</td><td>&hellip;</td><td>&hellip;</td><td>&hellip;</td><td>&hellip;</td><td>&hellip;</td><td>&hellip;</td></tr><tr><td>2035</td><td>0</td><td>&quot;Bogotá&quot;</td><td>&quot;Mujeres&quot;</td><td>96</td><td>6</td><td>&quot;Vejez&quot;</td><td>20</td><td>&quot;95 a 99&quot;</td><td>1192</td></tr><tr><td>2035</td><td>0</td><td>&quot;Bogotá&quot;</td><td>&quot;Mujeres&quot;</td><td>97</td><td>6</td><td>&quot;Vejez&quot;</td><td>20</td><td>&quot;95 a 99&quot;</td><td>847</td></tr><tr><td>2035</td><td>0</td><td>&quot;Bogotá&quot;</td><td>&quot;Mujeres&quot;</td><td>98</td><td>6</td><td>&quot;Vejez&quot;</td><td>20</td><td>&quot;95 a 99&quot;</td><td>590</td></tr><tr><td>2035</td><td>0</td><td>&quot;Bogotá&quot;</td><td>&quot;Mujeres&quot;</td><td>99</td><td>6</td><td>&quot;Vejez&quot;</td><td>20</td><td>&quot;95 a 99&quot;</td><td>403</td></tr><tr><td>2035</td><td>0</td><td>&quot;Bogotá&quot;</td><td>&quot;Mujeres&quot;</td><td>100</td><td>6</td><td>&quot;Vejez&quot;</td><td>21</td><td>&quot;100 o más&quot;</td><td>720</td></tr></tbody></table></div>"
      ],
      "text/plain": [
       "shape: (131_502, 10)\n",
       "┌──────┬─────────────┬────────────┬─────────┬───┬────────────┬────────────┬────────────┬───────────┐\n",
       "│ ANO  ┆ CODIGO_LOCA ┆ NOMBRE_LOC ┆ SEXO    ┆ … ┆ CURSO_DE_V ┆ ORDEN_GRUP ┆ GRUPO_EDAD ┆ POBLACION │\n",
       "│ ---  ┆ LIDAD       ┆ ALIDAD     ┆ ---     ┆   ┆ IDA        ┆ O_EDAD     ┆ ---        ┆ ---       │\n",
       "│ i16  ┆ ---         ┆ ---        ┆ str     ┆   ┆ ---        ┆ ---        ┆ str        ┆ i32       │\n",
       "│      ┆ i16         ┆ str        ┆         ┆   ┆ str        ┆ i16        ┆            ┆           │\n",
       "╞══════╪═════════════╪════════════╪═════════╪═══╪════════════╪════════════╪════════════╪═══════════╡\n",
       "│ 2005 ┆ 1           ┆ Usaquén    ┆ Hombres ┆ … ┆ Primera    ┆ 1          ┆ 0 a 4      ┆ 2909      │\n",
       "│      ┆             ┆            ┆         ┆   ┆ Infancia   ┆            ┆            ┆           │\n",
       "│ 2005 ┆ 1           ┆ Usaquén    ┆ Hombres ┆ … ┆ Primera    ┆ 1          ┆ 0 a 4      ┆ 2954      │\n",
       "│      ┆             ┆            ┆         ┆   ┆ Infancia   ┆            ┆            ┆           │\n",
       "│ 2005 ┆ 1           ┆ Usaquén    ┆ Hombres ┆ … ┆ Primera    ┆ 1          ┆ 0 a 4      ┆ 2919      │\n",
       "│      ┆             ┆            ┆         ┆   ┆ Infancia   ┆            ┆            ┆           │\n",
       "│ 2005 ┆ 1           ┆ Usaquén    ┆ Hombres ┆ … ┆ Primera    ┆ 1          ┆ 0 a 4      ┆ 2989      │\n",
       "│      ┆             ┆            ┆         ┆   ┆ Infancia   ┆            ┆            ┆           │\n",
       "│ 2005 ┆ 1           ┆ Usaquén    ┆ Hombres ┆ … ┆ Primera    ┆ 1          ┆ 0 a 4      ┆ 3079      │\n",
       "│      ┆             ┆            ┆         ┆   ┆ Infancia   ┆            ┆            ┆           │\n",
       "│ …    ┆ …           ┆ …          ┆ …       ┆ … ┆ …          ┆ …          ┆ …          ┆ …         │\n",
       "│ 2035 ┆ 0           ┆ Bogotá     ┆ Mujeres ┆ … ┆ Vejez      ┆ 20         ┆ 95 a 99    ┆ 1192      │\n",
       "│ 2035 ┆ 0           ┆ Bogotá     ┆ Mujeres ┆ … ┆ Vejez      ┆ 20         ┆ 95 a 99    ┆ 847       │\n",
       "│ 2035 ┆ 0           ┆ Bogotá     ┆ Mujeres ┆ … ┆ Vejez      ┆ 20         ┆ 95 a 99    ┆ 590       │\n",
       "│ 2035 ┆ 0           ┆ Bogotá     ┆ Mujeres ┆ … ┆ Vejez      ┆ 20         ┆ 95 a 99    ┆ 403       │\n",
       "│ 2035 ┆ 0           ┆ Bogotá     ┆ Mujeres ┆ … ┆ Vejez      ┆ 21         ┆ 100 o más  ┆ 720       │\n",
       "└──────┴─────────────┴────────────┴─────────┴───┴────────────┴────────────┴────────────┴───────────┘"
      ]
     },
     "execution_count": 21,
     "metadata": {},
     "output_type": "execute_result"
    }
   ],
   "source": [
    "data"
   ]
  },
  {
   "cell_type": "code",
   "execution_count": 22,
   "id": "48f4a9e3",
   "metadata": {},
   "outputs": [
    {
     "data": {
      "text/html": [
       "<div><style>\n",
       ".dataframe > thead > tr,\n",
       ".dataframe > tbody > tr {\n",
       "  text-align: right;\n",
       "  white-space: pre-wrap;\n",
       "}\n",
       "</style>\n",
       "<small>shape: (9, 11)</small><table border=\"1\" class=\"dataframe\"><thead><tr><th>statistic</th><th>ANO</th><th>CODIGO_LOCALIDAD</th><th>NOMBRE_LOCALIDAD</th><th>SEXO</th><th>EDAD</th><th>ORDEN_MCV</th><th>CURSO_DE_VIDA</th><th>ORDEN_GRUPO_EDAD</th><th>GRUPO_EDAD</th><th>POBLACION</th></tr><tr><td>str</td><td>f64</td><td>f64</td><td>str</td><td>str</td><td>f64</td><td>f64</td><td>str</td><td>f64</td><td>str</td><td>f64</td></tr></thead><tbody><tr><td>&quot;count&quot;</td><td>131502.0</td><td>131502.0</td><td>&quot;131502&quot;</td><td>&quot;131502&quot;</td><td>131502.0</td><td>131502.0</td><td>&quot;131502&quot;</td><td>131502.0</td><td>&quot;131502&quot;</td><td>131502.0</td></tr><tr><td>&quot;null_count&quot;</td><td>0.0</td><td>0.0</td><td>&quot;0&quot;</td><td>&quot;0&quot;</td><td>0.0</td><td>0.0</td><td>&quot;0&quot;</td><td>0.0</td><td>&quot;0&quot;</td><td>0.0</td></tr><tr><td>&quot;mean&quot;</td><td>2020.0</td><td>10.0</td><td>null</td><td>null</td><td>50.0</td><td>4.762376</td><td>null</td><td>10.60396</td><td>null</td><td>3546.795927</td></tr><tr><td>&quot;std&quot;</td><td>8.944306</td><td>6.055324</td><td>null</td><td>null</td><td>29.15487</td><td>1.47688</td><td>null</td><td>5.831109</td><td>null</td><td>9381.764914</td></tr><tr><td>&quot;min&quot;</td><td>2005.0</td><td>0.0</td><td>&quot;Antonio Nariño&quot;</td><td>&quot;Hombres&quot;</td><td>0.0</td><td>1.0</td><td>&quot;Adolescencia&quot;</td><td>1.0</td><td>&quot;0 a 4&quot;</td><td>0.0</td></tr><tr><td>&quot;25%&quot;</td><td>2012.0</td><td>5.0</td><td>null</td><td>null</td><td>25.0</td><td>4.0</td><td>null</td><td>6.0</td><td>null</td><td>246.0</td></tr><tr><td>&quot;50%&quot;</td><td>2020.0</td><td>10.0</td><td>null</td><td>null</td><td>50.0</td><td>5.0</td><td>null</td><td>11.0</td><td>null</td><td>988.0</td></tr><tr><td>&quot;75%&quot;</td><td>2028.0</td><td>15.0</td><td>null</td><td>null</td><td>75.0</td><td>6.0</td><td>null</td><td>16.0</td><td>null</td><td>3034.0</td></tr><tr><td>&quot;max&quot;</td><td>2035.0</td><td>20.0</td><td>&quot;Usme&quot;</td><td>&quot;Mujeres&quot;</td><td>100.0</td><td>6.0</td><td>&quot;Vejez&quot;</td><td>21.0</td><td>&quot;95 a 99&quot;</td><td>82181.0</td></tr></tbody></table></div>"
      ],
      "text/plain": [
       "shape: (9, 11)\n",
       "┌───────────┬──────────┬───────────┬───────────┬───┬───────────┬───────────┬───────────┬───────────┐\n",
       "│ statistic ┆ ANO      ┆ CODIGO_LO ┆ NOMBRE_LO ┆ … ┆ CURSO_DE_ ┆ ORDEN_GRU ┆ GRUPO_EDA ┆ POBLACION │\n",
       "│ ---       ┆ ---      ┆ CALIDAD   ┆ CALIDAD   ┆   ┆ VIDA      ┆ PO_EDAD   ┆ D         ┆ ---       │\n",
       "│ str       ┆ f64      ┆ ---       ┆ ---       ┆   ┆ ---       ┆ ---       ┆ ---       ┆ f64       │\n",
       "│           ┆          ┆ f64       ┆ str       ┆   ┆ str       ┆ f64       ┆ str       ┆           │\n",
       "╞═══════════╪══════════╪═══════════╪═══════════╪═══╪═══════════╪═══════════╪═══════════╪═══════════╡\n",
       "│ count     ┆ 131502.0 ┆ 131502.0  ┆ 131502    ┆ … ┆ 131502    ┆ 131502.0  ┆ 131502    ┆ 131502.0  │\n",
       "│ null_coun ┆ 0.0      ┆ 0.0       ┆ 0         ┆ … ┆ 0         ┆ 0.0       ┆ 0         ┆ 0.0       │\n",
       "│ t         ┆          ┆           ┆           ┆   ┆           ┆           ┆           ┆           │\n",
       "│ mean      ┆ 2020.0   ┆ 10.0      ┆ null      ┆ … ┆ null      ┆ 10.60396  ┆ null      ┆ 3546.7959 │\n",
       "│           ┆          ┆           ┆           ┆   ┆           ┆           ┆           ┆ 27        │\n",
       "│ std       ┆ 8.944306 ┆ 6.055324  ┆ null      ┆ … ┆ null      ┆ 5.831109  ┆ null      ┆ 9381.7649 │\n",
       "│           ┆          ┆           ┆           ┆   ┆           ┆           ┆           ┆ 14        │\n",
       "│ min       ┆ 2005.0   ┆ 0.0       ┆ Antonio   ┆ … ┆ Adolescen ┆ 1.0       ┆ 0 a 4     ┆ 0.0       │\n",
       "│           ┆          ┆           ┆ Nariño    ┆   ┆ cia       ┆           ┆           ┆           │\n",
       "│ 25%       ┆ 2012.0   ┆ 5.0       ┆ null      ┆ … ┆ null      ┆ 6.0       ┆ null      ┆ 246.0     │\n",
       "│ 50%       ┆ 2020.0   ┆ 10.0      ┆ null      ┆ … ┆ null      ┆ 11.0      ┆ null      ┆ 988.0     │\n",
       "│ 75%       ┆ 2028.0   ┆ 15.0      ┆ null      ┆ … ┆ null      ┆ 16.0      ┆ null      ┆ 3034.0    │\n",
       "│ max       ┆ 2035.0   ┆ 20.0      ┆ Usme      ┆ … ┆ Vejez     ┆ 21.0      ┆ 95 a 99   ┆ 82181.0   │\n",
       "└───────────┴──────────┴───────────┴───────────┴───┴───────────┴───────────┴───────────┴───────────┘"
      ]
     },
     "execution_count": 22,
     "metadata": {},
     "output_type": "execute_result"
    }
   ],
   "source": [
    "data.describe()"
   ]
  },
  {
   "cell_type": "code",
   "execution_count": 23,
   "id": "d130e439",
   "metadata": {},
   "outputs": [
    {
     "data": {
      "text/html": [
       "<div><style>\n",
       ".dataframe > thead > tr,\n",
       ".dataframe > tbody > tr {\n",
       "  text-align: right;\n",
       "  white-space: pre-wrap;\n",
       "}\n",
       "</style>\n",
       "<small>shape: (1, 10)</small><table border=\"1\" class=\"dataframe\"><thead><tr><th>ANO</th><th>CODIGO_LOCALIDAD</th><th>NOMBRE_LOCALIDAD</th><th>SEXO</th><th>EDAD</th><th>ORDEN_MCV</th><th>CURSO_DE_VIDA</th><th>ORDEN_GRUPO_EDAD</th><th>GRUPO_EDAD</th><th>POBLACION</th></tr><tr><td>u32</td><td>u32</td><td>u32</td><td>u32</td><td>u32</td><td>u32</td><td>u32</td><td>u32</td><td>u32</td><td>u32</td></tr></thead><tbody><tr><td>0</td><td>0</td><td>0</td><td>0</td><td>0</td><td>0</td><td>0</td><td>0</td><td>0</td><td>0</td></tr></tbody></table></div>"
      ],
      "text/plain": [
       "shape: (1, 10)\n",
       "┌─────┬──────────────┬─────────────┬──────┬───┬─────────────┬─────────────┬────────────┬───────────┐\n",
       "│ ANO ┆ CODIGO_LOCAL ┆ NOMBRE_LOCA ┆ SEXO ┆ … ┆ CURSO_DE_VI ┆ ORDEN_GRUPO ┆ GRUPO_EDAD ┆ POBLACION │\n",
       "│ --- ┆ IDAD         ┆ LIDAD       ┆ ---  ┆   ┆ DA          ┆ _EDAD       ┆ ---        ┆ ---       │\n",
       "│ u32 ┆ ---          ┆ ---         ┆ u32  ┆   ┆ ---         ┆ ---         ┆ u32        ┆ u32       │\n",
       "│     ┆ u32          ┆ u32         ┆      ┆   ┆ u32         ┆ u32         ┆            ┆           │\n",
       "╞═════╪══════════════╪═════════════╪══════╪═══╪═════════════╪═════════════╪════════════╪═══════════╡\n",
       "│ 0   ┆ 0            ┆ 0           ┆ 0    ┆ … ┆ 0           ┆ 0           ┆ 0          ┆ 0         │\n",
       "└─────┴──────────────┴─────────────┴──────┴───┴─────────────┴─────────────┴────────────┴───────────┘"
      ]
     },
     "execution_count": 23,
     "metadata": {},
     "output_type": "execute_result"
    }
   ],
   "source": [
    "data.select(all().null_count())"
   ]
  },
  {
   "cell_type": "code",
   "execution_count": 24,
   "id": "a0f9a575",
   "metadata": {},
   "outputs": [],
   "source": [
    "data = data.sort(['ANO', 'CODIGO_LOCALIDAD', 'EDAD', 'ORDEN_MCV', 'ORDEN_GRUPO_EDAD'])"
   ]
  },
  {
   "cell_type": "code",
   "execution_count": 25,
   "id": "dc42c498",
   "metadata": {},
   "outputs": [
    {
     "data": {
      "text/html": [
       "<div><style>\n",
       ".dataframe > thead > tr,\n",
       ".dataframe > tbody > tr {\n",
       "  text-align: right;\n",
       "  white-space: pre-wrap;\n",
       "}\n",
       "</style>\n",
       "<small>shape: (131_502, 10)</small><table border=\"1\" class=\"dataframe\"><thead><tr><th>ANO</th><th>CODIGO_LOCALIDAD</th><th>NOMBRE_LOCALIDAD</th><th>SEXO</th><th>EDAD</th><th>ORDEN_MCV</th><th>CURSO_DE_VIDA</th><th>ORDEN_GRUPO_EDAD</th><th>GRUPO_EDAD</th><th>POBLACION</th></tr><tr><td>i16</td><td>i16</td><td>str</td><td>str</td><td>i16</td><td>i16</td><td>str</td><td>i16</td><td>str</td><td>i32</td></tr></thead><tbody><tr><td>2005</td><td>0</td><td>&quot;Bogotá&quot;</td><td>&quot;Mujeres&quot;</td><td>0</td><td>1</td><td>&quot;Primera Infancia&quot;</td><td>1</td><td>&quot;0 a 4&quot;</td><td>56081</td></tr><tr><td>2005</td><td>0</td><td>&quot;Bogotá&quot;</td><td>&quot;Hombres&quot;</td><td>0</td><td>1</td><td>&quot;Primera Infancia&quot;</td><td>1</td><td>&quot;0 a 4&quot;</td><td>59131</td></tr><tr><td>2005</td><td>0</td><td>&quot;Bogotá&quot;</td><td>&quot;Mujeres&quot;</td><td>1</td><td>1</td><td>&quot;Primera Infancia&quot;</td><td>1</td><td>&quot;0 a 4&quot;</td><td>56945</td></tr><tr><td>2005</td><td>0</td><td>&quot;Bogotá&quot;</td><td>&quot;Hombres&quot;</td><td>1</td><td>1</td><td>&quot;Primera Infancia&quot;</td><td>1</td><td>&quot;0 a 4&quot;</td><td>59872</td></tr><tr><td>2005</td><td>0</td><td>&quot;Bogotá&quot;</td><td>&quot;Mujeres&quot;</td><td>2</td><td>1</td><td>&quot;Primera Infancia&quot;</td><td>1</td><td>&quot;0 a 4&quot;</td><td>57875</td></tr><tr><td>&hellip;</td><td>&hellip;</td><td>&hellip;</td><td>&hellip;</td><td>&hellip;</td><td>&hellip;</td><td>&hellip;</td><td>&hellip;</td><td>&hellip;</td><td>&hellip;</td></tr><tr><td>2035</td><td>20</td><td>&quot;Sumapaz&quot;</td><td>&quot;Mujeres&quot;</td><td>98</td><td>6</td><td>&quot;Vejez&quot;</td><td>20</td><td>&quot;95 a 99&quot;</td><td>0</td></tr><tr><td>2035</td><td>20</td><td>&quot;Sumapaz&quot;</td><td>&quot;Hombres&quot;</td><td>99</td><td>6</td><td>&quot;Vejez&quot;</td><td>20</td><td>&quot;95 a 99&quot;</td><td>0</td></tr><tr><td>2035</td><td>20</td><td>&quot;Sumapaz&quot;</td><td>&quot;Mujeres&quot;</td><td>99</td><td>6</td><td>&quot;Vejez&quot;</td><td>20</td><td>&quot;95 a 99&quot;</td><td>0</td></tr><tr><td>2035</td><td>20</td><td>&quot;Sumapaz&quot;</td><td>&quot;Hombres&quot;</td><td>100</td><td>6</td><td>&quot;Vejez&quot;</td><td>21</td><td>&quot;100 o más&quot;</td><td>0</td></tr><tr><td>2035</td><td>20</td><td>&quot;Sumapaz&quot;</td><td>&quot;Mujeres&quot;</td><td>100</td><td>6</td><td>&quot;Vejez&quot;</td><td>21</td><td>&quot;100 o más&quot;</td><td>0</td></tr></tbody></table></div>"
      ],
      "text/plain": [
       "shape: (131_502, 10)\n",
       "┌──────┬─────────────┬────────────┬─────────┬───┬────────────┬────────────┬────────────┬───────────┐\n",
       "│ ANO  ┆ CODIGO_LOCA ┆ NOMBRE_LOC ┆ SEXO    ┆ … ┆ CURSO_DE_V ┆ ORDEN_GRUP ┆ GRUPO_EDAD ┆ POBLACION │\n",
       "│ ---  ┆ LIDAD       ┆ ALIDAD     ┆ ---     ┆   ┆ IDA        ┆ O_EDAD     ┆ ---        ┆ ---       │\n",
       "│ i16  ┆ ---         ┆ ---        ┆ str     ┆   ┆ ---        ┆ ---        ┆ str        ┆ i32       │\n",
       "│      ┆ i16         ┆ str        ┆         ┆   ┆ str        ┆ i16        ┆            ┆           │\n",
       "╞══════╪═════════════╪════════════╪═════════╪═══╪════════════╪════════════╪════════════╪═══════════╡\n",
       "│ 2005 ┆ 0           ┆ Bogotá     ┆ Mujeres ┆ … ┆ Primera    ┆ 1          ┆ 0 a 4      ┆ 56081     │\n",
       "│      ┆             ┆            ┆         ┆   ┆ Infancia   ┆            ┆            ┆           │\n",
       "│ 2005 ┆ 0           ┆ Bogotá     ┆ Hombres ┆ … ┆ Primera    ┆ 1          ┆ 0 a 4      ┆ 59131     │\n",
       "│      ┆             ┆            ┆         ┆   ┆ Infancia   ┆            ┆            ┆           │\n",
       "│ 2005 ┆ 0           ┆ Bogotá     ┆ Mujeres ┆ … ┆ Primera    ┆ 1          ┆ 0 a 4      ┆ 56945     │\n",
       "│      ┆             ┆            ┆         ┆   ┆ Infancia   ┆            ┆            ┆           │\n",
       "│ 2005 ┆ 0           ┆ Bogotá     ┆ Hombres ┆ … ┆ Primera    ┆ 1          ┆ 0 a 4      ┆ 59872     │\n",
       "│      ┆             ┆            ┆         ┆   ┆ Infancia   ┆            ┆            ┆           │\n",
       "│ 2005 ┆ 0           ┆ Bogotá     ┆ Mujeres ┆ … ┆ Primera    ┆ 1          ┆ 0 a 4      ┆ 57875     │\n",
       "│      ┆             ┆            ┆         ┆   ┆ Infancia   ┆            ┆            ┆           │\n",
       "│ …    ┆ …           ┆ …          ┆ …       ┆ … ┆ …          ┆ …          ┆ …          ┆ …         │\n",
       "│ 2035 ┆ 20          ┆ Sumapaz    ┆ Mujeres ┆ … ┆ Vejez      ┆ 20         ┆ 95 a 99    ┆ 0         │\n",
       "│ 2035 ┆ 20          ┆ Sumapaz    ┆ Hombres ┆ … ┆ Vejez      ┆ 20         ┆ 95 a 99    ┆ 0         │\n",
       "│ 2035 ┆ 20          ┆ Sumapaz    ┆ Mujeres ┆ … ┆ Vejez      ┆ 20         ┆ 95 a 99    ┆ 0         │\n",
       "│ 2035 ┆ 20          ┆ Sumapaz    ┆ Hombres ┆ … ┆ Vejez      ┆ 21         ┆ 100 o más  ┆ 0         │\n",
       "│ 2035 ┆ 20          ┆ Sumapaz    ┆ Mujeres ┆ … ┆ Vejez      ┆ 21         ┆ 100 o más  ┆ 0         │\n",
       "└──────┴─────────────┴────────────┴─────────┴───┴────────────┴────────────┴────────────┴───────────┘"
      ]
     },
     "execution_count": 25,
     "metadata": {},
     "output_type": "execute_result"
    }
   ],
   "source": [
    "data"
   ]
  },
  {
   "cell_type": "code",
   "execution_count": 26,
   "id": "05545e42",
   "metadata": {},
   "outputs": [
    {
     "data": {
      "text/plain": [
       "Schema([('ANO', Int64),\n",
       "        ('CODIGO_LOCALIDAD', Int64),\n",
       "        ('NOMBRE_LOCALIDAD', String),\n",
       "        ('SEXO', String),\n",
       "        ('EDAD', Int64),\n",
       "        ('ORDEN_MCV', Int64),\n",
       "        ('CURSODEVIDA', String),\n",
       "        ('ORDEN_GRUPO_EDAD', Int64),\n",
       "        ('GRUPOEDAD', String),\n",
       "        ('POBLACION_7', Int64)])"
      ]
     },
     "execution_count": 26,
     "metadata": {},
     "output_type": "execute_result"
    }
   ],
   "source": [
    "raw.schema"
   ]
  },
  {
   "cell_type": "code",
   "execution_count": 27,
   "id": "a05d603f",
   "metadata": {},
   "outputs": [
    {
     "data": {
      "text/plain": [
       "Schema([('ANO', Int16),\n",
       "        ('CODIGO_LOCALIDAD', Int16),\n",
       "        ('NOMBRE_LOCALIDAD', String),\n",
       "        ('SEXO', String),\n",
       "        ('EDAD', Int16),\n",
       "        ('ORDEN_MCV', Int16),\n",
       "        ('CURSO_DE_VIDA', String),\n",
       "        ('ORDEN_GRUPO_EDAD', Int16),\n",
       "        ('GRUPO_EDAD', String),\n",
       "        ('POBLACION', Int32)])"
      ]
     },
     "execution_count": 27,
     "metadata": {},
     "output_type": "execute_result"
    }
   ],
   "source": [
    "data.schema"
   ]
  },
  {
   "cell_type": "markdown",
   "id": "924dee93",
   "metadata": {},
   "source": [
    "## **Exported as Processed Data for Future ML training**"
   ]
  },
  {
   "cell_type": "code",
   "execution_count": 28,
   "id": "f3dcd2dc",
   "metadata": {},
   "outputs": [],
   "source": [
    "data.write_csv('../datasets/processed/localidad.csv', separator=';')"
   ]
  },
  {
   "cell_type": "markdown",
   "id": "2b71d07b",
   "metadata": {},
   "source": [
    "## Group by zones, making a summatory in order to find the total population for each year"
   ]
  },
  {
   "cell_type": "code",
   "execution_count": 29,
   "id": "61fc14e2",
   "metadata": {},
   "outputs": [
    {
     "data": {
      "text/html": [
       "<div><style>\n",
       ".dataframe > thead > tr,\n",
       ".dataframe > tbody > tr {\n",
       "  text-align: right;\n",
       "  white-space: pre-wrap;\n",
       "}\n",
       "</style>\n",
       "<small>shape: (651, 4)</small><table border=\"1\" class=\"dataframe\"><thead><tr><th>ANO</th><th>CODIGO_LOCALIDAD</th><th>NOMBRE_LOCALIDAD</th><th>POBLACION</th></tr><tr><td>i16</td><td>i16</td><td>str</td><td>i32</td></tr></thead><tbody><tr><td>2005</td><td>10</td><td>&quot;Engativá&quot;</td><td>789840</td></tr><tr><td>2005</td><td>7</td><td>&quot;Bosa&quot;</td><td>499108</td></tr><tr><td>2005</td><td>12</td><td>&quot;Barrios Unidos&quot;</td><td>218880</td></tr><tr><td>2005</td><td>8</td><td>&quot;Kennedy&quot;</td><td>933574</td></tr><tr><td>2005</td><td>15</td><td>&quot;Antonio Nariño&quot;</td><td>113969</td></tr><tr><td>&hellip;</td><td>&hellip;</td><td>&hellip;</td><td>&hellip;</td></tr><tr><td>2035</td><td>2</td><td>&quot;Chapinero&quot;</td><td>146453</td></tr><tr><td>2035</td><td>1</td><td>&quot;Usaquén&quot;</td><td>533703</td></tr><tr><td>2035</td><td>9</td><td>&quot;Fontibón&quot;</td><td>373977</td></tr><tr><td>2035</td><td>4</td><td>&quot;San Cristóbal&quot;</td><td>393869</td></tr><tr><td>2035</td><td>0</td><td>&quot;Bogotá&quot;</td><td>7802297</td></tr></tbody></table></div>"
      ],
      "text/plain": [
       "shape: (651, 4)\n",
       "┌──────┬──────────────────┬──────────────────┬───────────┐\n",
       "│ ANO  ┆ CODIGO_LOCALIDAD ┆ NOMBRE_LOCALIDAD ┆ POBLACION │\n",
       "│ ---  ┆ ---              ┆ ---              ┆ ---       │\n",
       "│ i16  ┆ i16              ┆ str              ┆ i32       │\n",
       "╞══════╪══════════════════╪══════════════════╪═══════════╡\n",
       "│ 2005 ┆ 10               ┆ Engativá         ┆ 789840    │\n",
       "│ 2005 ┆ 7                ┆ Bosa             ┆ 499108    │\n",
       "│ 2005 ┆ 12               ┆ Barrios Unidos   ┆ 218880    │\n",
       "│ 2005 ┆ 8                ┆ Kennedy          ┆ 933574    │\n",
       "│ 2005 ┆ 15               ┆ Antonio Nariño   ┆ 113969    │\n",
       "│ …    ┆ …                ┆ …                ┆ …         │\n",
       "│ 2035 ┆ 2                ┆ Chapinero        ┆ 146453    │\n",
       "│ 2035 ┆ 1                ┆ Usaquén          ┆ 533703    │\n",
       "│ 2035 ┆ 9                ┆ Fontibón         ┆ 373977    │\n",
       "│ 2035 ┆ 4                ┆ San Cristóbal    ┆ 393869    │\n",
       "│ 2035 ┆ 0                ┆ Bogotá           ┆ 7802297   │\n",
       "└──────┴──────────────────┴──────────────────┴───────────┘"
      ]
     },
     "execution_count": 29,
     "metadata": {},
     "output_type": "execute_result"
    }
   ],
   "source": [
    "to_write = data.group_by(['ANO', 'CODIGO_LOCALIDAD', 'NOMBRE_LOCALIDAD']).agg(\n",
    "    col(['POBLACION']).sum()\n",
    ").sort(['ANO'])\n",
    "\n",
    "to_write"
   ]
  },
  {
   "cell_type": "markdown",
   "id": "bae469e9",
   "metadata": {},
   "source": [
    "### Total population per zone"
   ]
  },
  {
   "cell_type": "code",
   "execution_count": 30,
   "id": "29fae1a9",
   "metadata": {},
   "outputs": [],
   "source": [
    "suma_localidad = to_write.filter(col('CODIGO_LOCALIDAD') != 0).sort(['ANO', 'CODIGO_LOCALIDAD'])"
   ]
  },
  {
   "cell_type": "code",
   "execution_count": 31,
   "id": "4ea21986",
   "metadata": {},
   "outputs": [],
   "source": [
    "suma_localidad.write_csv('../datasets/processed/suma_localidad.csv', separator=';')"
   ]
  },
  {
   "cell_type": "markdown",
   "id": "da6406e7",
   "metadata": {},
   "source": [
    "### Total population in Bogotá"
   ]
  },
  {
   "cell_type": "code",
   "execution_count": 32,
   "id": "9a47d412",
   "metadata": {},
   "outputs": [],
   "source": [
    "suma_bogota = to_write.filter(col('CODIGO_LOCALIDAD') == 0).sort(['ANO', 'CODIGO_LOCALIDAD'])"
   ]
  },
  {
   "cell_type": "code",
   "execution_count": 33,
   "id": "d538d01f",
   "metadata": {},
   "outputs": [],
   "source": [
    "suma_bogota.write_csv('../datasets/processed/suma_bogota.csv', separator=';')"
   ]
  }
 ],
 "metadata": {
  "kernelspec": {
   "display_name": "venv",
   "language": "python",
   "name": "python3"
  },
  "language_info": {
   "codemirror_mode": {
    "name": "ipython",
    "version": 3
   },
   "file_extension": ".py",
   "mimetype": "text/x-python",
   "name": "python",
   "nbconvert_exporter": "python",
   "pygments_lexer": "ipython3",
   "version": "3.13.6"
  }
 },
 "nbformat": 4,
 "nbformat_minor": 5
}
